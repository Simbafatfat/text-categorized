{
  "nbformat": 4,
  "nbformat_minor": 0,
  "metadata": {
    "colab": {
      "name": "307.ipynb",
      "provenance": [],
      "collapsed_sections": []
    },
    "kernelspec": {
      "name": "python3",
      "display_name": "Python 3"
    },
    "language_info": {
      "name": "python"
    }
  },
  "cells": [
    {
      "cell_type": "code",
      "execution_count": null,
      "metadata": {
        "id": "O-pnfwJ1tBx3"
      },
      "outputs": [],
      "source": [
        "!tar -xvf/content/20news-bydate.tar.gz\n"
      ]
    },
    {
      "cell_type": "code",
      "source": [
        "import sklearn.datasets as skd\n",
        "import pandas as pd\n",
        "import numpy as py\n",
        "import nltk\n",
        "nltk.download('stopwords')\n",
        "nltk.download('wordnet')\n",
        "nltk.download('punkt')\n",
        "from nltk import word_tokenize\n",
        "from nltk.corpus import stopwords\n",
        "from nltk.stem import WordNetLemmatizer\n",
        "import string\n",
        "import re\n",
        "from sklearn.model_selection import train_test_split\n",
        "from sklearn.feature_extraction.text import CountVectorizer, TfidfVectorizer\n",
        "from sklearn.naive_bayes import MultinomialNB\n",
        "from sklearn.metrics import classification_report, accuracy_score"
      ],
      "metadata": {
        "id": "tFBXBN0gyqeR",
        "colab": {
          "base_uri": "https://localhost:8080/"
        },
        "outputId": "0a9ab597-8ba9-4ee3-da2e-a8f911f0bbb0"
      },
      "execution_count": 30,
      "outputs": [
        {
          "output_type": "stream",
          "name": "stdout",
          "text": [
            "[nltk_data] Downloading package stopwords to /root/nltk_data...\n",
            "[nltk_data]   Package stopwords is already up-to-date!\n",
            "[nltk_data] Downloading package wordnet to /root/nltk_data...\n",
            "[nltk_data]   Package wordnet is already up-to-date!\n",
            "[nltk_data] Downloading package punkt to /root/nltk_data...\n",
            "[nltk_data]   Package punkt is already up-to-date!\n"
          ]
        }
      ]
    },
    {
      "cell_type": "code",
      "source": [
        "news_train = skd.load_files(\"/content/20news-bydate-train\",encoding = \"ISO-8859-1\")\n",
        "news_test = skd.load_files(\"/content/20news-bydate-test\",encoding = \"ISO-8859-1\")\n"
      ],
      "metadata": {
        "id": "SKeLu165xNFH"
      },
      "execution_count": 5,
      "outputs": []
    },
    {
      "cell_type": "code",
      "source": [
        "news_train.data"
      ],
      "metadata": {
        "id": "gyEXEUEWgWDU"
      },
      "execution_count": null,
      "outputs": []
    },
    {
      "cell_type": "code",
      "source": [
        "stop_words = stopwords.words(\"english\")\n",
        "stop_words = stop_words + list(string.printable)\n",
        "stop_words = stop_words + [\"subject\",\"organization\",\"university\",\"lines\",\"com\",\"ac\",\"edu\"]"
      ],
      "metadata": {
        "id": "2Tkdpz6I0TJz"
      },
      "execution_count": 7,
      "outputs": []
    },
    {
      "cell_type": "code",
      "source": [
        "lemmatizer = WordNetLemmatizer()"
      ],
      "metadata": {
        "id": "FL-UAUOU0zuQ"
      },
      "execution_count": 8,
      "outputs": []
    },
    {
      "cell_type": "code",
      "source": [
        "news_train_df = pd.DataFrame({\"text\": news_train.data,\"category\":news_train.target}) # train dataframe"
      ],
      "metadata": {
        "id": "LZAR9M3QizPD"
      },
      "execution_count": 9,
      "outputs": []
    },
    {
      "cell_type": "code",
      "source": [
        "news_test_df = pd.DataFrame({\"text\": news_test.data,\"category\":news_test.target}) #test dataframe"
      ],
      "metadata": {
        "id": "-bAO0eLH32ng"
      },
      "execution_count": 10,
      "outputs": []
    },
    {
      "cell_type": "code",
      "source": [
        "news_train_df[\"clean text\"] = news_train_df[\"text\"].apply(lambda x: \" \".join([lemmatizer.lemmatize(word.lower())\\\n",
        "                         for word in word_tokenize(re.sub(r'([^\\s\\w]+|_+|[0-9]+)',\" \",str(x))) if word.lower() not in stop_words]))"
      ],
      "metadata": {
        "id": "MOVDqGGquAng"
      },
      "execution_count": 11,
      "outputs": []
    },
    {
      "cell_type": "code",
      "source": [
        "news_test_df[\"clean text\"] = news_test_df[\"text\"].apply(lambda x: \" \".join([lemmatizer.lemmatize(word.lower())\\\n",
        "                         for word in word_tokenize(re.sub(r'([^\\s\\w]|_|[0-9])+',\" \",str(x))) if word.lower() not in stop_words]))"
      ],
      "metadata": {
        "id": "E7pg4U063lkT"
      },
      "execution_count": 16,
      "outputs": []
    },
    {
      "cell_type": "code",
      "source": [
        "news_train_df.drop([\"text\"],axis =1)"
      ],
      "metadata": {
        "colab": {
          "base_uri": "https://localhost:8080/",
          "height": 424
        },
        "id": "MCP02yxEyJNu",
        "outputId": "52a9e77f-5c18-4eb3-dd0e-ebe13b21d1e7"
      },
      "execution_count": null,
      "outputs": [
        {
          "output_type": "execute_result",
          "data": {
            "text/plain": [
              "      category                                         clean text\n",
              "0            2  csd keele uk yearsley change licensed data win...\n",
              "1            2  arizona state james cassidy ifjxc asuacad bitn...\n",
              "2            5  davewood bruno c colorado david rex wood error...\n",
              "3            2  gay selkirk sfu ca ian gay change licensed dat...\n",
              "4            0  tony lezard tony mantis co uk atheist distribu...\n",
              "...        ...                                                ...\n",
              "6842         8  bloom inland extraordinary footpeg engineering...\n",
              "6843         5  stevedav netcom steve davidson moolit olit net...\n",
              "6844         2  herrod c stanford stephen herrod do window mac...\n",
              "6845         4  cherkaue ee rochester brian cherkauer iivx upg...\n",
              "6846         4  lau aerospace aero org david lau accelerating ...\n",
              "\n",
              "[6847 rows x 2 columns]"
            ],
            "text/html": [
              "\n",
              "  <div id=\"df-fdff5331-f4a1-49f5-9fe2-0b034828fbb2\">\n",
              "    <div class=\"colab-df-container\">\n",
              "      <div>\n",
              "<style scoped>\n",
              "    .dataframe tbody tr th:only-of-type {\n",
              "        vertical-align: middle;\n",
              "    }\n",
              "\n",
              "    .dataframe tbody tr th {\n",
              "        vertical-align: top;\n",
              "    }\n",
              "\n",
              "    .dataframe thead th {\n",
              "        text-align: right;\n",
              "    }\n",
              "</style>\n",
              "<table border=\"1\" class=\"dataframe\">\n",
              "  <thead>\n",
              "    <tr style=\"text-align: right;\">\n",
              "      <th></th>\n",
              "      <th>category</th>\n",
              "      <th>clean text</th>\n",
              "    </tr>\n",
              "  </thead>\n",
              "  <tbody>\n",
              "    <tr>\n",
              "      <th>0</th>\n",
              "      <td>2</td>\n",
              "      <td>csd keele uk yearsley change licensed data win...</td>\n",
              "    </tr>\n",
              "    <tr>\n",
              "      <th>1</th>\n",
              "      <td>2</td>\n",
              "      <td>arizona state james cassidy ifjxc asuacad bitn...</td>\n",
              "    </tr>\n",
              "    <tr>\n",
              "      <th>2</th>\n",
              "      <td>5</td>\n",
              "      <td>davewood bruno c colorado david rex wood error...</td>\n",
              "    </tr>\n",
              "    <tr>\n",
              "      <th>3</th>\n",
              "      <td>2</td>\n",
              "      <td>gay selkirk sfu ca ian gay change licensed dat...</td>\n",
              "    </tr>\n",
              "    <tr>\n",
              "      <th>4</th>\n",
              "      <td>0</td>\n",
              "      <td>tony lezard tony mantis co uk atheist distribu...</td>\n",
              "    </tr>\n",
              "    <tr>\n",
              "      <th>...</th>\n",
              "      <td>...</td>\n",
              "      <td>...</td>\n",
              "    </tr>\n",
              "    <tr>\n",
              "      <th>6842</th>\n",
              "      <td>8</td>\n",
              "      <td>bloom inland extraordinary footpeg engineering...</td>\n",
              "    </tr>\n",
              "    <tr>\n",
              "      <th>6843</th>\n",
              "      <td>5</td>\n",
              "      <td>stevedav netcom steve davidson moolit olit net...</td>\n",
              "    </tr>\n",
              "    <tr>\n",
              "      <th>6844</th>\n",
              "      <td>2</td>\n",
              "      <td>herrod c stanford stephen herrod do window mac...</td>\n",
              "    </tr>\n",
              "    <tr>\n",
              "      <th>6845</th>\n",
              "      <td>4</td>\n",
              "      <td>cherkaue ee rochester brian cherkauer iivx upg...</td>\n",
              "    </tr>\n",
              "    <tr>\n",
              "      <th>6846</th>\n",
              "      <td>4</td>\n",
              "      <td>lau aerospace aero org david lau accelerating ...</td>\n",
              "    </tr>\n",
              "  </tbody>\n",
              "</table>\n",
              "<p>6847 rows × 2 columns</p>\n",
              "</div>\n",
              "      <button class=\"colab-df-convert\" onclick=\"convertToInteractive('df-fdff5331-f4a1-49f5-9fe2-0b034828fbb2')\"\n",
              "              title=\"Convert this dataframe to an interactive table.\"\n",
              "              style=\"display:none;\">\n",
              "        \n",
              "  <svg xmlns=\"http://www.w3.org/2000/svg\" height=\"24px\"viewBox=\"0 0 24 24\"\n",
              "       width=\"24px\">\n",
              "    <path d=\"M0 0h24v24H0V0z\" fill=\"none\"/>\n",
              "    <path d=\"M18.56 5.44l.94 2.06.94-2.06 2.06-.94-2.06-.94-.94-2.06-.94 2.06-2.06.94zm-11 1L8.5 8.5l.94-2.06 2.06-.94-2.06-.94L8.5 2.5l-.94 2.06-2.06.94zm10 10l.94 2.06.94-2.06 2.06-.94-2.06-.94-.94-2.06-.94 2.06-2.06.94z\"/><path d=\"M17.41 7.96l-1.37-1.37c-.4-.4-.92-.59-1.43-.59-.52 0-1.04.2-1.43.59L10.3 9.45l-7.72 7.72c-.78.78-.78 2.05 0 2.83L4 21.41c.39.39.9.59 1.41.59.51 0 1.02-.2 1.41-.59l7.78-7.78 2.81-2.81c.8-.78.8-2.07 0-2.86zM5.41 20L4 18.59l7.72-7.72 1.47 1.35L5.41 20z\"/>\n",
              "  </svg>\n",
              "      </button>\n",
              "      \n",
              "  <style>\n",
              "    .colab-df-container {\n",
              "      display:flex;\n",
              "      flex-wrap:wrap;\n",
              "      gap: 12px;\n",
              "    }\n",
              "\n",
              "    .colab-df-convert {\n",
              "      background-color: #E8F0FE;\n",
              "      border: none;\n",
              "      border-radius: 50%;\n",
              "      cursor: pointer;\n",
              "      display: none;\n",
              "      fill: #1967D2;\n",
              "      height: 32px;\n",
              "      padding: 0 0 0 0;\n",
              "      width: 32px;\n",
              "    }\n",
              "\n",
              "    .colab-df-convert:hover {\n",
              "      background-color: #E2EBFA;\n",
              "      box-shadow: 0px 1px 2px rgba(60, 64, 67, 0.3), 0px 1px 3px 1px rgba(60, 64, 67, 0.15);\n",
              "      fill: #174EA6;\n",
              "    }\n",
              "\n",
              "    [theme=dark] .colab-df-convert {\n",
              "      background-color: #3B4455;\n",
              "      fill: #D2E3FC;\n",
              "    }\n",
              "\n",
              "    [theme=dark] .colab-df-convert:hover {\n",
              "      background-color: #434B5C;\n",
              "      box-shadow: 0px 1px 3px 1px rgba(0, 0, 0, 0.15);\n",
              "      filter: drop-shadow(0px 1px 2px rgba(0, 0, 0, 0.3));\n",
              "      fill: #FFFFFF;\n",
              "    }\n",
              "  </style>\n",
              "\n",
              "      <script>\n",
              "        const buttonEl =\n",
              "          document.querySelector('#df-fdff5331-f4a1-49f5-9fe2-0b034828fbb2 button.colab-df-convert');\n",
              "        buttonEl.style.display =\n",
              "          google.colab.kernel.accessAllowed ? 'block' : 'none';\n",
              "\n",
              "        async function convertToInteractive(key) {\n",
              "          const element = document.querySelector('#df-fdff5331-f4a1-49f5-9fe2-0b034828fbb2');\n",
              "          const dataTable =\n",
              "            await google.colab.kernel.invokeFunction('convertToInteractive',\n",
              "                                                     [key], {});\n",
              "          if (!dataTable) return;\n",
              "\n",
              "          const docLinkHtml = 'Like what you see? Visit the ' +\n",
              "            '<a target=\"_blank\" href=https://colab.research.google.com/notebooks/data_table.ipynb>data table notebook</a>'\n",
              "            + ' to learn more about interactive tables.';\n",
              "          element.innerHTML = '';\n",
              "          dataTable['output_type'] = 'display_data';\n",
              "          await google.colab.output.renderOutput(dataTable, element);\n",
              "          const docLink = document.createElement('div');\n",
              "          docLink.innerHTML = docLinkHtml;\n",
              "          element.appendChild(docLink);\n",
              "        }\n",
              "      </script>\n",
              "    </div>\n",
              "  </div>\n",
              "  "
            ]
          },
          "metadata": {},
          "execution_count": 122
        }
      ]
    },
    {
      "cell_type": "code",
      "source": [
        "news_test_df.drop([\"text\"],axis =1)"
      ],
      "metadata": {
        "id": "yiseuVchA3u0"
      },
      "execution_count": null,
      "outputs": []
    },
    {
      "cell_type": "markdown",
      "source": [
        "## **CountVectorizer**"
      ],
      "metadata": {
        "id": "2kOjbGf4So6R"
      }
    },
    {
      "cell_type": "code",
      "source": [
        "count_vect = CountVectorizer()\n",
        "X_train_cv = count_vect.fit_transform(news_train_df[\"clean text\"]) \n",
        "X_test_cv = count_vect.transform(news_test_df[\"clean text\"]) \n",
        "mnb = MultinomialNB() \n",
        "y_train = news_train_df['category']\n",
        "mnb.fit(X_train_cv, y_train) \n",
        "y_pred_cv_mnb = mnb.predict(X_test_cv) \n",
        "y_test = news_test_df[\"category\"]\n",
        "print(accuracy_score(y_test, y_pred_cv_mnb))\n",
        "print(classification_report(y_test, y_pred_cv_mnb))"
      ],
      "metadata": {
        "colab": {
          "base_uri": "https://localhost:8080/"
        },
        "id": "vOVvcherPILE",
        "outputId": "c44cc385-19b5-42df-dec4-6370fd388f0d"
      },
      "execution_count": 31,
      "outputs": [
        {
          "output_type": "stream",
          "name": "stdout",
          "text": [
            "0.8020446096654275\n",
            "              precision    recall  f1-score   support\n",
            "\n",
            "           0       0.79      0.82      0.80       319\n",
            "           1       0.65      0.80      0.72       389\n",
            "           2       0.79      0.04      0.07       394\n",
            "           3       0.56      0.79      0.65       392\n",
            "           4       0.80      0.82      0.81       385\n",
            "           5       0.69      0.82      0.75       395\n",
            "           6       0.91      0.72      0.80       390\n",
            "           7       0.87      0.91      0.89       396\n",
            "           8       0.95      0.94      0.94       398\n",
            "           9       0.97      0.92      0.94       397\n",
            "          10       0.93      0.97      0.95       399\n",
            "          11       0.78      0.96      0.86       396\n",
            "          12       0.79      0.71      0.75       393\n",
            "          13       0.89      0.86      0.87       396\n",
            "          14       0.85      0.91      0.88       394\n",
            "          15       0.82      0.95      0.88       398\n",
            "          16       0.72      0.93      0.81       364\n",
            "          17       0.95      0.92      0.94       376\n",
            "          18       0.69      0.63      0.66       310\n",
            "          19       0.84      0.48      0.61       251\n",
            "\n",
            "    accuracy                           0.80      7532\n",
            "   macro avg       0.81      0.79      0.78      7532\n",
            "weighted avg       0.81      0.80      0.78      7532\n",
            "\n"
          ]
        }
      ]
    },
    {
      "cell_type": "markdown",
      "source": [
        "## **TfidfVectorizer**"
      ],
      "metadata": {
        "id": "3biVuOqqTffx"
      }
    },
    {
      "cell_type": "code",
      "source": [
        "tfidfV = TfidfVectorizer() \n",
        "X_train_tfidfV = tfidfV.fit_transform(news_train_df[\"clean text\"]) \n",
        "X_test_tfidfV = tfidfV.transform(news_test_df[\"clean text\"])\n",
        "mnb = MultinomialNB() \n",
        "y_train = news_train_df['category']\n",
        "mnb.fit(X_train_tfidfV, y_train) \n",
        "y_pred_tfidfV_mnb = mnb.predict(X_test_tfidfV) \n",
        "y_test = news_test_df[\"category\"]\n",
        "print(accuracy_score(y_test, y_pred_tfidfV_mnb))\n",
        "print(classification_report(y_test, y_pred_tfidfV_mnb))"
      ],
      "metadata": {
        "colab": {
          "base_uri": "https://localhost:8080/"
        },
        "id": "nj-hQpcsQze0",
        "outputId": "910f2789-984c-4788-9e6e-9fb40ffe3413"
      },
      "execution_count": 33,
      "outputs": [
        {
          "output_type": "stream",
          "name": "stdout",
          "text": [
            "0.8118693574083908\n",
            "              precision    recall  f1-score   support\n",
            "\n",
            "           0       0.82      0.68      0.74       319\n",
            "           1       0.78      0.71      0.74       389\n",
            "           2       0.80      0.69      0.74       394\n",
            "           3       0.64      0.81      0.72       392\n",
            "           4       0.86      0.81      0.83       385\n",
            "           5       0.87      0.80      0.83       395\n",
            "           6       0.88      0.75      0.81       390\n",
            "           7       0.87      0.92      0.90       396\n",
            "           8       0.94      0.96      0.95       398\n",
            "           9       0.93      0.93      0.93       397\n",
            "          10       0.89      0.98      0.93       399\n",
            "          11       0.72      0.97      0.82       396\n",
            "          12       0.82      0.65      0.73       393\n",
            "          13       0.92      0.78      0.84       396\n",
            "          14       0.85      0.93      0.89       394\n",
            "          15       0.62      0.96      0.75       398\n",
            "          16       0.65      0.95      0.78       364\n",
            "          17       0.93      0.95      0.94       376\n",
            "          18       0.95      0.50      0.66       310\n",
            "          19       0.95      0.22      0.36       251\n",
            "\n",
            "    accuracy                           0.81      7532\n",
            "   macro avg       0.83      0.80      0.79      7532\n",
            "weighted avg       0.83      0.81      0.80      7532\n",
            "\n"
          ]
        }
      ]
    }
  ]
}